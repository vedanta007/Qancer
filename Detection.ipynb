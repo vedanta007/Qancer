{
 "cells": [
  {
   "cell_type": "code",
   "execution_count": null,
   "metadata": {},
   "outputs": [],
   "source": [
    "pip install qiskit\n",
    "pip install qiskit-aer\n",
    "pip install qiskit-machine-learning\n",
    "pip install pylatexenc"
   ]
  },
  {
   "cell_type": "code",
   "execution_count": null,
   "metadata": {},
   "outputs": [],
   "source": [
    "import pandas as pd\n",
    "import numpy as np\n",
    "import seaborn as sns\n",
    "import matplotlib.pyplot as plt\n",
    "import time"
   ]
  },
  {
   "cell_type": "code",
   "execution_count": null,
   "metadata": {},
   "outputs": [],
   "source": [
    "from sklearn.datasets import load_breast_cancer\n",
    "data = load_breast_cancer()"
   ]
  },
  {
   "cell_type": "code",
   "execution_count": null,
   "metadata": {},
   "outputs": [],
   "source": [
    "df = pd.DataFrame(data =data.data, columns= data.feature_names)\n",
    "df['target'] =data.target"
   ]
  },
  {
   "cell_type": "code",
   "execution_count": null,
   "metadata": {},
   "outputs": [],
   "source": [
    "print(\"Total data points\",df.shape[0])\n",
    "print(\"Total number of features(as number of columns) are \", df.shape[1])\n",
    "df.describe().transpose()"
   ]
  },
  {
   "cell_type": "code",
   "execution_count": null,
   "metadata": {},
   "outputs": [],
   "source": [
    "df.groupby([\"target\"]).count()"
   ]
  },
  {
   "cell_type": "code",
   "execution_count": null,
   "metadata": {},
   "outputs": [],
   "source": [
    "print(\"The unique number of data values are\")\n",
    "df.nunique()"
   ]
  },
  {
   "cell_type": "code",
   "execution_count": null,
   "metadata": {},
   "outputs": [],
   "source": [
    "null_values = df.isnull().values.any()\n",
    "if null_values == True:\n",
    "    print(\"There are some missing values in data\")\n",
    "else:\n",
    "    print(\"There are no missing values in the dataset\")"
   ]
  },
  {
   "cell_type": "code",
   "execution_count": null,
   "metadata": {},
   "outputs": [],
   "source": [
    "plt.figure(figsize =(30,30))\n",
    "sns.heatmap(df.corr(), vmin=-1, vmax=1, annot=True)\n",
    "plt.show()"
   ]
  },
  {
   "cell_type": "code",
   "execution_count": null,
   "metadata": {},
   "outputs": [],
   "source": [
    "sns.set_theme(style=\"white\")\n",
    "corr = df.corr()\n",
    "# Generate a mask for the upper triangle\n",
    "mask = np.triu(np.ones_like(corr, dtype=bool))\n",
    "# Set up the matplotlib figure\n",
    "f, ax = plt.subplots(figsize=(11, 9))\n",
    "# Generate a custom diverging colormap\n",
    "cmap = sns.diverging_palette(230, 20, as_cmap=True)\n",
    "sns.heatmap(corr, mask=mask, cmap=cmap,square=True, linewidths=.5, cbar_kws={\"shrink\": .6})"
   ]
  },
  {
   "cell_type": "code",
   "execution_count": null,
   "metadata": {},
   "outputs": [],
   "source": [
    "d =df\n",
    "X =d.drop([\"target\"], axis =1)\n",
    "y=d.target"
   ]
  },
  {
   "cell_type": "code",
   "execution_count": null,
   "metadata": {},
   "outputs": [],
   "source": [
    "from sklearn.preprocessing import StandardScaler\n",
    "scaler = StandardScaler()\n",
    "X =pd.DataFrame(scaler.fit_transform(X), columns =X.columns)"
   ]
  },
  {
   "cell_type": "code",
   "execution_count": null,
   "metadata": {},
   "outputs": [],
   "source": [
    "X.head()"
   ]
  },
  {
   "cell_type": "code",
   "execution_count": null,
   "metadata": {},
   "outputs": [],
   "source": [
    "from sklearn.decomposition import PCA\n",
    "pca= PCA(n_components = 4)\n",
    "X =pca.fit_transform(X)\n",
    "print(pca.explained_variance_ratio_)"
   ]
  },
  {
   "cell_type": "code",
   "execution_count": null,
   "metadata": {},
   "outputs": [],
   "source": [
    "from sklearn.preprocessing import MinMaxScaler\n",
    "X = MinMaxScaler().fit_transform(X)"
   ]
  },
  {
   "cell_type": "code",
   "execution_count": null,
   "metadata": {},
   "outputs": [],
   "source": [
    "from sklearn.metrics import accuracy_score, precision_score, recall_score, f1_score, confusion_matrix\n",
    "from sklearn.model_selection import train_test_split\n",
    "from qiskit.utils import algorithm_globals\n",
    "algorithm_globals.random_seed =123\n",
    "train_features, test_features, train_labels, test_labels = train_test_split(X, y, train_size=0.8, random_state=algorithm_globals.random_seed)"
   ]
  },
  {
   "cell_type": "code",
   "execution_count": null,
   "metadata": {},
   "outputs": [],
   "source": [
    "from sklearn.svm import SVC\n",
    "classical_kernels = ['rbf', 'linear', 'poly', 'sigmoid']\n",
    "\n",
    "start =time.time()\n",
    "for kernel in classical_kernels:\n",
    "    classical_svc = SVC(kernel= kernel)\n",
    "    cl_svc = classical_svc.fit(train_features, train_labels)\n",
    "    y_svc = cl_svc.predict(test_features)\n",
    "    svc_accuracy_score = accuracy_score(test_labels, y_svc)\n",
    "    svc_precision_score = precision_score(test_labels, y_svc)\n",
    "    svc_recall_score = recall_score(test_labels, y_svc)\n",
    "    svc_f1_score = f1_score(test_labels, y_svc)\n",
    "    print(f'{kernel} kernel classification accuracy score:  {svc_accuracy_score: .2f}')\n",
    "    print(f'{kernel} kernel classification precision score:  {svc_precision_score: .2f}')\n",
    "    print(f'{kernel} kernel classification recall score:  {svc_recall_score: .2f}')\n",
    "    print(f'{kernel} kernel classification F1 score:  {svc_f1_score: .2f}')\n",
    "    mat = confusion_matrix(test_labels,y_svc)\n",
    "    sns.heatmap(mat.T, square=True, annot=True,fmt='d',cbar=False)\n",
    "    plt.title(f'Confusion Matrix for {kernel} kernel')\n",
    "    plt.xlabel('true class')\n",
    "    plt.ylabel('predicted label')\n",
    "    plt.show()\n",
    "    print(\"**************\")\n",
    "\n",
    "elapsed = time.time() -start\n",
    "print(f\"Training and testing time: {elapsed} seconds\")"
   ]
  },
  {
   "cell_type": "code",
   "execution_count": null,
   "metadata": {},
   "outputs": [],
   "source": [
    "from sklearn.neighbors import KNeighborsClassifier\n",
    "start =time.time()\n",
    "KNN = KNeighborsClassifier(n_neighbors = 13)\n",
    "knn = KNN.fit(train_features, train_labels)\n",
    "y_knn = knn.predict(test_features)\n",
    "knn_accuracy_score = accuracy_score(test_labels, y_knn)\n",
    "knn_precision_score = precision_score(test_labels, y_knn)\n",
    "knn_recall_score = recall_score(test_labels, y_knn)\n",
    "knn_f1_score = f1_score(test_labels, y_knn)\n",
    "print(f'KNN classification accuracy score:  {knn_accuracy_score: .2f}')\n",
    "print(f'KNN classification precsion score:  {knn_precision_score: .2f}')\n",
    "print(f'KNN classification recall score:  {knn_recall_score: .2f}')\n",
    "print(f'KNN classification F1 score:  {knn_f1_score: .2f}')\n",
    "elapsed = time.time() -start\n",
    "print(f\"Training and testing time: {elapsed} seconds\")"
   ]
  },
  {
   "cell_type": "code",
   "execution_count": null,
   "metadata": {},
   "outputs": [],
   "source": [
    "mat = confusion_matrix(test_labels,y_knn)\n",
    "sns.heatmap(mat.T, square=True, annot=True,fmt='d',cbar=False)\n",
    "plt.title(\"Confusion Matrix for KNN\")\n",
    "plt.xlabel('true class')\n",
    "plt.ylabel('predicted label')\n",
    "plt.show()"
   ]
  },
  {
   "cell_type": "code",
   "execution_count": null,
   "metadata": {},
   "outputs": [],
   "source": [
    "from qiskit.circuit.library import ZZFeatureMap\n",
    "\n",
    "num_features = train_features.shape[1]\n",
    "\n",
    "feature_map = ZZFeatureMap(feature_dimension=num_features, reps=3, entanglement = 'linear', insert_barriers =True)\n",
    "feature_map.decompose().draw(output='mpl')\n"
   ]
  },
  {
   "cell_type": "code",
   "execution_count": null,
   "metadata": {},
   "outputs": [],
   "source": [
    "from qiskit import Aer, execute\n",
    "backend = Aer.get_backend(\"qasm_simulator\")"
   ]
  },
  {
   "cell_type": "code",
   "execution_count": null,
   "metadata": {},
   "outputs": [],
   "source": [
    "from qiskit_machine_learning.kernels import QuantumKernel\n",
    "qunatum_kernel = QuantumKernel(feature_map=feature_map, quantum_instance=backend)"
   ]
  },
  {
   "cell_type": "code",
   "execution_count": null,
   "metadata": {},
   "outputs": [],
   "source": [
    "quantum_svc = SVC(kernel=qunatum_kernel.evaluate)\n",
    "start =time.time()\n",
    "q = quantum_svc.fit(train_features, train_labels)\n",
    "y_q = q.predict(test_features)\n",
    "q_accuracy_score = accuracy_score(test_labels, y_q)\n",
    "q_precision_score = precision_score(test_labels, y_q)\n",
    "q_recall_score = recall_score(test_labels, y_q)\n",
    "q_f1_score = f1_score(test_labels, y_q)\n",
    "print(f\" Callable quantum kernel classification accuracy score: {q_accuracy_score: .2f}\")\n",
    "print(f\" Callable quantum kernel classification precision score: {q_precision_score: .2f}\")\n",
    "print(f\" Callable quantum kernel classification recall score: {q_recall_score: .2f}\")\n",
    "print(f\" Callable quantum kernel classification F1 score: {q_f1_score: .2f}\")\n",
    "elapsed = time.time() -start\n",
    "print(f\"Training and testing time: {elapsed} seconds\")"
   ]
  },
  {
   "cell_type": "code",
   "execution_count": null,
   "metadata": {},
   "outputs": [],
   "source": [
    "mat = confusion_matrix(test_labels,y_q)\n",
    "sns.heatmap(mat.T, square=True, annot=True,fmt='d',cbar=False)\n",
    "plt.title(\"Confusion Matrix for Quantum SVC\")\n",
    "plt.xlabel('true class')\n",
    "plt.ylabel('predicted label')\n",
    "plt.show()"
   ]
  }
 ],
 "metadata": {
  "language_info": {
   "name": "python"
  }
 },
 "nbformat": 4,
 "nbformat_minor": 2
}
